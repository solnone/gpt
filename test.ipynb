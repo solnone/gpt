{
 "cells": [
  {
   "cell_type": "code",
   "execution_count": 5,
   "metadata": {},
   "outputs": [
    {
     "name": "stdout",
     "output_type": "stream",
     "text": [
      "The output should be a markdown code snippet formatted in the following schema, including the leading and trailing \"\\`\\`\\`json\" and \"\\`\\`\\`\":\n",
      "\n",
      "```json\n",
      "{\n",
      "\t\"brand_name\": string  // This is the name of the brand\n",
      "\t\"likelihood_of_success\": string  // This is an integer score between 1-10\n",
      "\t\"reasoning\": string  // This is the reasons for the score\n",
      "}\n",
      "```\n"
     ]
    }
   ],
   "source": [
    "from langchain.output_parsers import ResponseSchema\n",
    "from langchain.output_parsers import StructuredOutputParser\n",
    "\n",
    "brand_name_schema = ResponseSchema(name=\"brand_name\",\n",
    "                             description=\"This is the name of the brand\")\n",
    "\n",
    "likelihood_of_success_schema = ResponseSchema(name=\"likelihood_of_success\",\n",
    "                                      description=\"This is an integer score between 1-10\")\n",
    "\n",
    "reasoning_schema = ResponseSchema(name=\"reasoning\",\n",
    "                                    description=\"This is the reasons for the score\")\n",
    "\n",
    "response_schemas = [brand_name_schema, \n",
    "                    likelihood_of_success_schema,\n",
    "                    reasoning_schema]\n",
    "\n",
    "output_parser = StructuredOutputParser.from_response_schemas(response_schemas)\n",
    "\n",
    "format_instructions = output_parser.get_format_instructions()\n",
    "\n",
    "print(format_instructions)"
   ]
  },
  {
   "cell_type": "code",
   "execution_count": 6,
   "metadata": {},
   "outputs": [],
   "source": [
    "template_string = \"\"\"You are a master branding consulatant who specializes in naming brands. \\\n",
    "You come up with catchy and memorable brand names.\n",
    "\n",
    "Take the brand description below delimited by triple backticks and use it to create the name for a brand.\n",
    "\n",
    "brand description: ```{brand_description}```\n",
    "\n",
    "then based on the description and you hot new brand name give the brand a score 1-10 for how likely it is to succeed.\n",
    "\n",
    "{format_instructions}\n",
    "\"\"\""
   ]
  },
  {
   "cell_type": "code",
   "execution_count": 7,
   "metadata": {},
   "outputs": [],
   "source": [
    "from langchain.prompts import ChatPromptTemplate, HumanMessagePromptTemplate\n",
    "from langchain.chat_models import ChatOpenAI\n",
    "\n",
    "llm = ChatOpenAI(temperature=0.0)\n",
    "\n",
    "prompt = ChatPromptTemplate(\n",
    "    messages=[\n",
    "        HumanMessagePromptTemplate.from_template(template_string)  \n",
    "    ],\n",
    "    input_variables=[\"brand_description\"],\n",
    "    partial_variables={\"format_instructions\": format_instructions},\n",
    "    output_parser=output_parser # here we add the output parser to the Prompt template\n",
    ")"
   ]
  },
  {
   "cell_type": "code",
   "execution_count": 8,
   "metadata": {},
   "outputs": [],
   "source": [
    "from langchain.chains import LLMChain\n",
    "\n",
    "chain = LLMChain(llm=llm, prompt=prompt)"
   ]
  },
  {
   "cell_type": "code",
   "execution_count": 9,
   "metadata": {},
   "outputs": [],
   "source": [
    "response = chain.predict_and_parse(brand_description=\"a cool hip new sneaker brand aimed at rich kids\")"
   ]
  },
  {
   "cell_type": "code",
   "execution_count": 10,
   "metadata": {},
   "outputs": [
    {
     "name": "stdout",
     "output_type": "stream",
     "text": [
      "<class 'dict'>\n"
     ]
    },
    {
     "data": {
      "text/plain": [
       "{'brand_name': 'LuxKicks',\n",
       " 'likelihood_of_success': '8',\n",
       " 'reasoning': \"The name is catchy and memorable, and it effectively communicates the brand's target audience of rich kids. However, the success of the brand will also depend on the quality and design of the sneakers themselves.\"}"
      ]
     },
     "execution_count": 10,
     "metadata": {},
     "output_type": "execute_result"
    }
   ],
   "source": [
    "print(type(response))\n",
    "response"
   ]
  }
 ],
 "metadata": {
  "kernelspec": {
   "display_name": ".venv",
   "language": "python",
   "name": "python3"
  },
  "language_info": {
   "codemirror_mode": {
    "name": "ipython",
    "version": 3
   },
   "file_extension": ".py",
   "mimetype": "text/x-python",
   "name": "python",
   "nbconvert_exporter": "python",
   "pygments_lexer": "ipython3",
   "version": "3.10.11"
  },
  "orig_nbformat": 4
 },
 "nbformat": 4,
 "nbformat_minor": 2
}
